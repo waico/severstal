{
 "cells": [
  {
   "attachments": {},
   "cell_type": "markdown",
   "id": "98000a4a",
   "metadata": {},
   "source": [
    "# Импорт\n",
    "\n",
    "* Разбиение данных по установкам\n",
    "М1 - привели к отказу, М3 -нет\n",
    "горизонт рула от 3 часов до месяца"
   ]
  },
  {
   "cell_type": "code",
   "execution_count": 1,
   "id": "3f564daa",
   "metadata": {},
   "outputs": [],
   "source": [
    "import gc\n",
    "import pickle\n",
    "import pandas as pd\n",
    "import numpy as np\n",
    "import matplotlib.pyplot as plt\n",
    "import seaborn as sns\n",
    "import itertools\n",
    "from sklearn.preprocessing import QuantileTransformer\n",
    "from tqdm import tqdm\n",
    "import seaborn as sns\n",
    "\n",
    "\n",
    "import os, sys\n",
    "project_path = os.path.abspath('../../')\n",
    "project_path = os.path.abspath('../')\n",
    "\n",
    "if project_path not in sys.path:\n",
    "    sys.path.append(project_path)\n",
    "\n",
    "# from utils.plot_utils import fast_hist, fast_plot, fast_bar, fast_legend, fast_scatter, Pairs_plot\n",
    "\n",
    "# pd.set_option('display.max_colwidth', None)\n",
    "\n",
    "\n",
    "import sys\n",
    "sys.path.insert(1, 'C:/Users/kompn/YandexDisk/tsad/')\n",
    "from tsad.useful.ts import split_by_repeated\n",
    "from tsad.eda.samplingRate import value_counts_interval\n",
    "from IPython.display import display, HTML\n",
    "\n"
   ]
  },
  {
   "attachments": {},
   "cell_type": "markdown",
   "id": "7a0261a6",
   "metadata": {},
   "source": [
    "# Загрузка данных"
   ]
  },
  {
   "cell_type": "code",
   "execution_count": 3,
   "id": "2f559e3b",
   "metadata": {},
   "outputs": [],
   "source": [
    "X_train = pd.read_parquet(f'{project_path}/data/raw/X_train.parquet')\n",
    "X_test = pd.read_parquet(f'{project_path}/data/raw/X_test.parquet')\n",
    "\n",
    "X_train.columns = [x.replace('ТОК РОТОРА2', 'ТОК РОТОРА 2') for x in X_train.columns]\n",
    "X_test.columns = [x.replace('ТОК РОТОРА2', 'ТОК РОТОРА 2') for x in X_test.columns]"
   ]
  },
  {
   "cell_type": "code",
   "execution_count": 4,
   "id": "7c0605b6",
   "metadata": {},
   "outputs": [],
   "source": [
    "y_train = pd.read_parquet(f'{project_path}/data/raw/y_train.parquet').astype(np.int8)"
   ]
  },
  {
   "cell_type": "code",
   "execution_count": 5,
   "id": "4ab9cf4c",
   "metadata": {},
   "outputs": [],
   "source": [
    "path = f'{project_path}/data/processed/toir_train.parquet'\n",
    "toir =  pd.read_parquet(path) "
   ]
  },
  {
   "cell_type": "code",
   "execution_count": 6,
   "id": "0596e1f7",
   "metadata": {},
   "outputs": [],
   "source": [
    "toir = pd.read_excel('../data/messages.xlsx',index_col=0)\n",
    "\n",
    "toir['num'] = toir['ИМЯ_МАШИНЫ'].apply(lambda x: int(x.split('№')[-1]))\n",
    "toir['label'] = toir['ВИД_СООБЩЕНИЯ'].apply(lambda x: int(x[-1].replace('3','2')))\n",
    "toir.drop(columns=['ИМЯ_МАШИНЫ','ВИД_СООБЩЕНИЯ'], inplace=True)\n",
    "toir = toir.rename(columns={'ДАТА_НАЧАЛА_НЕИСПРАВНОСТИ':'t1','ДАТА_УСТРАНЕНИЯ_НЕИСПРАВНОСТИ':'t2'})\n",
    "toir = toir.iloc[3:]"
   ]
  },
  {
   "cell_type": "code",
   "execution_count": 7,
   "id": "c41504b0",
   "metadata": {},
   "outputs": [],
   "source": [
    "mytoir = pd.read_excel('../data/processed/Processed_toir2.xlsx').set_index('Номер')['Причина']\n",
    "t_test = pd.Timestamp('2020-09-27 16:42:02')"
   ]
  },
  {
   "attachments": {},
   "cell_type": "markdown",
   "id": "81c0475a",
   "metadata": {},
   "source": [
    "# Подготовка выборки для обучения"
   ]
  },
  {
   "cell_type": "code",
   "execution_count": null,
   "id": "0b8527c7",
   "metadata": {},
   "outputs": [],
   "source": []
  },
  {
   "cell_type": "code",
   "execution_count": 8,
   "id": "42372c71",
   "metadata": {},
   "outputs": [
    {
     "name": "stderr",
     "output_type": "stream",
     "text": [
      "C:\\Users\\kompn\\AppData\\Local\\Temp\\ipykernel_4640\\3351175106.py:9: FutureWarning: The default value of regex will change from True to False in a future version.\n",
      "  eks.columns = eks.columns.str.replace(f'ЭКСГАУСТЕР {num}. ','')\n",
      "C:\\Users\\kompn\\AppData\\Local\\Temp\\ipykernel_4640\\3351175106.py:21: SettingWithCopyWarning: \n",
      "A value is trying to be set on a copy of a slice from a DataFrame\n",
      "\n",
      "See the caveats in the documentation: https://pandas.pydata.org/pandas-docs/stable/user_guide/indexing.html#returning-a-view-versus-a-copy\n",
      "  eks['y'][t1:t2] = mytoir[nomer_zap]\n",
      "C:\\Users\\kompn\\AppData\\Local\\Temp\\ipykernel_4640\\3351175106.py:9: FutureWarning: The default value of regex will change from True to False in a future version.\n",
      "  eks.columns = eks.columns.str.replace(f'ЭКСГАУСТЕР {num}. ','')\n",
      "C:\\Users\\kompn\\AppData\\Local\\Temp\\ipykernel_4640\\3351175106.py:21: SettingWithCopyWarning: \n",
      "A value is trying to be set on a copy of a slice from a DataFrame\n",
      "\n",
      "See the caveats in the documentation: https://pandas.pydata.org/pandas-docs/stable/user_guide/indexing.html#returning-a-view-versus-a-copy\n",
      "  eks['y'][t1:t2] = mytoir[nomer_zap]\n",
      "C:\\Users\\kompn\\AppData\\Local\\Temp\\ipykernel_4640\\3351175106.py:9: FutureWarning: The default value of regex will change from True to False in a future version.\n",
      "  eks.columns = eks.columns.str.replace(f'ЭКСГАУСТЕР {num}. ','')\n",
      "C:\\Users\\kompn\\AppData\\Local\\Temp\\ipykernel_4640\\3351175106.py:21: SettingWithCopyWarning: \n",
      "A value is trying to be set on a copy of a slice from a DataFrame\n",
      "\n",
      "See the caveats in the documentation: https://pandas.pydata.org/pandas-docs/stable/user_guide/indexing.html#returning-a-view-versus-a-copy\n",
      "  eks['y'][t1:t2] = mytoir[nomer_zap]\n",
      "C:\\Users\\kompn\\AppData\\Local\\Temp\\ipykernel_4640\\3351175106.py:9: FutureWarning: The default value of regex will change from True to False in a future version.\n",
      "  eks.columns = eks.columns.str.replace(f'ЭКСГАУСТЕР {num}. ','')\n",
      "C:\\Users\\kompn\\AppData\\Local\\Temp\\ipykernel_4640\\3351175106.py:21: SettingWithCopyWarning: \n",
      "A value is trying to be set on a copy of a slice from a DataFrame\n",
      "\n",
      "See the caveats in the documentation: https://pandas.pydata.org/pandas-docs/stable/user_guide/indexing.html#returning-a-view-versus-a-copy\n",
      "  eks['y'][t1:t2] = mytoir[nomer_zap]\n",
      "C:\\Users\\kompn\\AppData\\Local\\Temp\\ipykernel_4640\\3351175106.py:9: FutureWarning: The default value of regex will change from True to False in a future version.\n",
      "  eks.columns = eks.columns.str.replace(f'ЭКСГАУСТЕР {num}. ','')\n",
      "C:\\Users\\kompn\\AppData\\Local\\Temp\\ipykernel_4640\\3351175106.py:21: SettingWithCopyWarning: \n",
      "A value is trying to be set on a copy of a slice from a DataFrame\n",
      "\n",
      "See the caveats in the documentation: https://pandas.pydata.org/pandas-docs/stable/user_guide/indexing.html#returning-a-view-versus-a-copy\n",
      "  eks['y'][t1:t2] = mytoir[nomer_zap]\n",
      "C:\\Users\\kompn\\AppData\\Local\\Temp\\ipykernel_4640\\3351175106.py:9: FutureWarning: The default value of regex will change from True to False in a future version.\n",
      "  eks.columns = eks.columns.str.replace(f'ЭКСГАУСТЕР {num}. ','')\n",
      "C:\\Users\\kompn\\AppData\\Local\\Temp\\ipykernel_4640\\3351175106.py:21: SettingWithCopyWarning: \n",
      "A value is trying to be set on a copy of a slice from a DataFrame\n",
      "\n",
      "See the caveats in the documentation: https://pandas.pydata.org/pandas-docs/stable/user_guide/indexing.html#returning-a-view-versus-a-copy\n",
      "  eks['y'][t1:t2] = mytoir[nomer_zap]\n"
     ]
    }
   ],
   "source": [
    "dt1 = pd.Timedelta('14D')\n",
    "dt2 = pd.Timedelta('2h')\n",
    "th_current_volt = 50\n",
    "\n",
    "Xy = []\n",
    "\n",
    "for num in nums:\n",
    "    eks = X_train[[x for x in X_train.columns if f'ЭКСГАУСТЕР {num}. ' in x]].copy()[:t_test]\n",
    "    eks.columns = eks.columns.str.replace(f'ЭКСГАУСТЕР {num}. ','')\n",
    "    \n",
    "    eks = eks.fillna(method='pad',limit=60)\n",
    "    eks = eks[ (eks['ТОК РОТОРА 1']>50) |\\\n",
    "              (eks['ТОК РОТОРА 2']>50) |\\\n",
    "              (eks['ТОК СТАТОРА']>50)]     \n",
    "    eks['y'] = 'Нормально'\n",
    "    mini_toir = toir[toir['num']==num]\n",
    "    idx  = toir.index[toir.index.isin(mytoir.index)]\n",
    "    for nomer_zap in idx:\n",
    "        t1 = toir['t1'][nomer_zap] - dt1\n",
    "        t2 = toir['t1'][nomer_zap] - dt2\n",
    "        eks['y'][t1:t2] = mytoir[nomer_zap]\n",
    "    Xy.append(eks.copy().dropna())\n",
    "Xy = pd.concat(Xy)                                          \n",
    "\n",
    "X = Xy.copy()\n",
    "y = X.pop('y')"
   ]
  },
  {
   "attachments": {},
   "cell_type": "markdown",
   "id": "c0aa7644",
   "metadata": {},
   "source": [
    "# Обучение "
   ]
  },
  {
   "cell_type": "code",
   "execution_count": 11,
   "id": "8fd94d4a",
   "metadata": {},
   "outputs": [
    {
     "data": {
      "text/html": [
       "<style>#sk-container-id-2 {color: black;background-color: white;}#sk-container-id-2 pre{padding: 0;}#sk-container-id-2 div.sk-toggleable {background-color: white;}#sk-container-id-2 label.sk-toggleable__label {cursor: pointer;display: block;width: 100%;margin-bottom: 0;padding: 0.3em;box-sizing: border-box;text-align: center;}#sk-container-id-2 label.sk-toggleable__label-arrow:before {content: \"▸\";float: left;margin-right: 0.25em;color: #696969;}#sk-container-id-2 label.sk-toggleable__label-arrow:hover:before {color: black;}#sk-container-id-2 div.sk-estimator:hover label.sk-toggleable__label-arrow:before {color: black;}#sk-container-id-2 div.sk-toggleable__content {max-height: 0;max-width: 0;overflow: hidden;text-align: left;background-color: #f0f8ff;}#sk-container-id-2 div.sk-toggleable__content pre {margin: 0.2em;color: black;border-radius: 0.25em;background-color: #f0f8ff;}#sk-container-id-2 input.sk-toggleable__control:checked~div.sk-toggleable__content {max-height: 200px;max-width: 100%;overflow: auto;}#sk-container-id-2 input.sk-toggleable__control:checked~label.sk-toggleable__label-arrow:before {content: \"▾\";}#sk-container-id-2 div.sk-estimator input.sk-toggleable__control:checked~label.sk-toggleable__label {background-color: #d4ebff;}#sk-container-id-2 div.sk-label input.sk-toggleable__control:checked~label.sk-toggleable__label {background-color: #d4ebff;}#sk-container-id-2 input.sk-hidden--visually {border: 0;clip: rect(1px 1px 1px 1px);clip: rect(1px, 1px, 1px, 1px);height: 1px;margin: -1px;overflow: hidden;padding: 0;position: absolute;width: 1px;}#sk-container-id-2 div.sk-estimator {font-family: monospace;background-color: #f0f8ff;border: 1px dotted black;border-radius: 0.25em;box-sizing: border-box;margin-bottom: 0.5em;}#sk-container-id-2 div.sk-estimator:hover {background-color: #d4ebff;}#sk-container-id-2 div.sk-parallel-item::after {content: \"\";width: 100%;border-bottom: 1px solid gray;flex-grow: 1;}#sk-container-id-2 div.sk-label:hover label.sk-toggleable__label {background-color: #d4ebff;}#sk-container-id-2 div.sk-serial::before {content: \"\";position: absolute;border-left: 1px solid gray;box-sizing: border-box;top: 0;bottom: 0;left: 50%;z-index: 0;}#sk-container-id-2 div.sk-serial {display: flex;flex-direction: column;align-items: center;background-color: white;padding-right: 0.2em;padding-left: 0.2em;position: relative;}#sk-container-id-2 div.sk-item {position: relative;z-index: 1;}#sk-container-id-2 div.sk-parallel {display: flex;align-items: stretch;justify-content: center;background-color: white;position: relative;}#sk-container-id-2 div.sk-item::before, #sk-container-id-2 div.sk-parallel-item::before {content: \"\";position: absolute;border-left: 1px solid gray;box-sizing: border-box;top: 0;bottom: 0;left: 50%;z-index: -1;}#sk-container-id-2 div.sk-parallel-item {display: flex;flex-direction: column;z-index: 1;position: relative;background-color: white;}#sk-container-id-2 div.sk-parallel-item:first-child::after {align-self: flex-end;width: 50%;}#sk-container-id-2 div.sk-parallel-item:last-child::after {align-self: flex-start;width: 50%;}#sk-container-id-2 div.sk-parallel-item:only-child::after {width: 0;}#sk-container-id-2 div.sk-dashed-wrapped {border: 1px dashed gray;margin: 0 0.4em 0.5em 0.4em;box-sizing: border-box;padding-bottom: 0.4em;background-color: white;}#sk-container-id-2 div.sk-label label {font-family: monospace;font-weight: bold;display: inline-block;line-height: 1.2em;}#sk-container-id-2 div.sk-label-container {text-align: center;}#sk-container-id-2 div.sk-container {/* jupyter's `normalize.less` sets `[hidden] { display: none; }` but bootstrap.min.css set `[hidden] { display: none !important; }` so we also need the `!important` here to be able to override the default hidden behavior on the sphinx rendered scikit-learn.org. See: https://github.com/scikit-learn/scikit-learn/issues/21755 */display: inline-block !important;position: relative;}#sk-container-id-2 div.sk-text-repr-fallback {display: none;}</style><div id=\"sk-container-id-2\" class=\"sk-top-container\"><div class=\"sk-text-repr-fallback\"><pre>KNeighborsClassifier(metric=&#x27;mahalanobis&#x27;,\n",
       "                     metric_params={&#x27;VI&#x27;: array([[ 4.07703632e+03,  4.07703613e+03, -6.29358252e+02,\n",
       "        -2.46533746e+02, -1.38695229e+01, -1.54411201e+01,\n",
       "         7.07224594e+00, -6.06370756e+00,  6.10858727e+01,\n",
       "         3.50824729e+01,  2.66009212e+01,  5.04021145e+00,\n",
       "         2.71469152e+00, -9.02889669e+00,  3.53737584e+00,\n",
       "         8.76221816e+00],\n",
       "       [ 4.07703613e+03,  4.07705549e+03, -6...\n",
       "         2.56962108e-01,  5.25129668e-01,  3.67727865e-01,\n",
       "         1.27703261e+00,  1.29954992e+00,  1.74593721e+00,\n",
       "         1.15961263e+00],\n",
       "       [ 8.76221816e+00,  8.76225154e+00, -1.51165151e+02,\n",
       "         2.90087128e-01,  9.89259052e-01,  9.58363858e-01,\n",
       "         2.05326041e-01,  3.17475521e-01,  2.85222496e-01,\n",
       "        -8.67327555e-01,  4.53132963e-01,  4.04765629e-01,\n",
       "         9.82126591e-01,  1.14154498e+00,  1.15961263e+00,\n",
       "         1.41945894e+00]])},\n",
       "                     n_jobs=-1, n_neighbors=7)</pre><b>In a Jupyter environment, please rerun this cell to show the HTML representation or trust the notebook. <br />On GitHub, the HTML representation is unable to render, please try loading this page with nbviewer.org.</b></div><div class=\"sk-container\" hidden><div class=\"sk-item\"><div class=\"sk-estimator sk-toggleable\"><input class=\"sk-toggleable__control sk-hidden--visually\" id=\"sk-estimator-id-2\" type=\"checkbox\" checked><label for=\"sk-estimator-id-2\" class=\"sk-toggleable__label sk-toggleable__label-arrow\">KNeighborsClassifier</label><div class=\"sk-toggleable__content\"><pre>KNeighborsClassifier(metric=&#x27;mahalanobis&#x27;,\n",
       "                     metric_params={&#x27;VI&#x27;: array([[ 4.07703632e+03,  4.07703613e+03, -6.29358252e+02,\n",
       "        -2.46533746e+02, -1.38695229e+01, -1.54411201e+01,\n",
       "         7.07224594e+00, -6.06370756e+00,  6.10858727e+01,\n",
       "         3.50824729e+01,  2.66009212e+01,  5.04021145e+00,\n",
       "         2.71469152e+00, -9.02889669e+00,  3.53737584e+00,\n",
       "         8.76221816e+00],\n",
       "       [ 4.07703613e+03,  4.07705549e+03, -6...\n",
       "         2.56962108e-01,  5.25129668e-01,  3.67727865e-01,\n",
       "         1.27703261e+00,  1.29954992e+00,  1.74593721e+00,\n",
       "         1.15961263e+00],\n",
       "       [ 8.76221816e+00,  8.76225154e+00, -1.51165151e+02,\n",
       "         2.90087128e-01,  9.89259052e-01,  9.58363858e-01,\n",
       "         2.05326041e-01,  3.17475521e-01,  2.85222496e-01,\n",
       "        -8.67327555e-01,  4.53132963e-01,  4.04765629e-01,\n",
       "         9.82126591e-01,  1.14154498e+00,  1.15961263e+00,\n",
       "         1.41945894e+00]])},\n",
       "                     n_jobs=-1, n_neighbors=7)</pre></div></div></div></div></div>"
      ],
      "text/plain": [
       "KNeighborsClassifier(metric='mahalanobis',\n",
       "                     metric_params={'VI': array([[ 4.07703632e+03,  4.07703613e+03, -6.29358252e+02,\n",
       "        -2.46533746e+02, -1.38695229e+01, -1.54411201e+01,\n",
       "         7.07224594e+00, -6.06370756e+00,  6.10858727e+01,\n",
       "         3.50824729e+01,  2.66009212e+01,  5.04021145e+00,\n",
       "         2.71469152e+00, -9.02889669e+00,  3.53737584e+00,\n",
       "         8.76221816e+00],\n",
       "       [ 4.07703613e+03,  4.07705549e+03, -6...\n",
       "         2.56962108e-01,  5.25129668e-01,  3.67727865e-01,\n",
       "         1.27703261e+00,  1.29954992e+00,  1.74593721e+00,\n",
       "         1.15961263e+00],\n",
       "       [ 8.76221816e+00,  8.76225154e+00, -1.51165151e+02,\n",
       "         2.90087128e-01,  9.89259052e-01,  9.58363858e-01,\n",
       "         2.05326041e-01,  3.17475521e-01,  2.85222496e-01,\n",
       "        -8.67327555e-01,  4.53132963e-01,  4.04765629e-01,\n",
       "         9.82126591e-01,  1.14154498e+00,  1.15961263e+00,\n",
       "         1.41945894e+00]])},\n",
       "                     n_jobs=-1, n_neighbors=7)"
      ]
     },
     "execution_count": 11,
     "metadata": {},
     "output_type": "execute_result"
    }
   ],
   "source": [
    "from sklearn.neighbors import KNeighborsClassifier\n",
    "cl = KNeighborsClassifier(n_neighbors=7,\n",
    "                          n_jobs=-1,\n",
    "                          metric='mahalanobis',\n",
    "                          metric_params={'VI': np.cov(X, rowvar= False)},\n",
    "                         )\n",
    "cl.fit(X,y)\n",
    "\n"
   ]
  },
  {
   "attachments": {},
   "cell_type": "markdown",
   "id": "06026d9d",
   "metadata": {},
   "source": [
    "# Валидаиция"
   ]
  },
  {
   "cell_type": "code",
   "execution_count": 53,
   "id": "c18c10ea",
   "metadata": {
    "scrolled": false
   },
   "outputs": [
    {
     "name": "stderr",
     "output_type": "stream",
     "text": [
      "C:\\Users\\kompn\\AppData\\Local\\Temp\\ipykernel_4640\\1700302275.py:10: FutureWarning: The default value of regex will change from True to False in a future version.\n",
      "  eks.columns = eks.columns.str.replace(f'ЭКСГАУСТЕР {num}. ','')\n"
     ]
    },
    {
     "name": "stdout",
     "output_type": "stream",
     "text": [
      "ЭлектроДвигатель\n"
     ]
    },
    {
     "data": {
      "text/plain": [
       "Сомневаюсь         96\n",
       "ЭлектроТиристор    30\n",
       "Нормально          13\n",
       "РоторМеханика       3\n",
       "Name: 0, dtype: int64"
      ]
     },
     "metadata": {},
     "output_type": "display_data"
    },
    {
     "name": "stdout",
     "output_type": "stream",
     "text": [
      "\n",
      "\n",
      "\n",
      "ДвигательТемп\n"
     ]
    },
    {
     "name": "stderr",
     "output_type": "stream",
     "text": [
      "C:\\Users\\kompn\\AppData\\Local\\Temp\\ipykernel_4640\\1700302275.py:10: FutureWarning: The default value of regex will change from True to False in a future version.\n",
      "  eks.columns = eks.columns.str.replace(f'ЭКСГАУСТЕР {num}. ','')\n"
     ]
    },
    {
     "data": {
      "text/plain": [
       "ДвигательТемп    119\n",
       "Нормально          6\n",
       "Сомневаюсь         1\n",
       "Name: 0, dtype: int64"
      ]
     },
     "metadata": {},
     "output_type": "display_data"
    },
    {
     "name": "stdout",
     "output_type": "stream",
     "text": [
      "\n",
      "\n",
      "\n",
      "РоторМеханика\n"
     ]
    },
    {
     "name": "stderr",
     "output_type": "stream",
     "text": [
      "C:\\Users\\kompn\\AppData\\Local\\Temp\\ipykernel_4640\\1700302275.py:10: FutureWarning: The default value of regex will change from True to False in a future version.\n",
      "  eks.columns = eks.columns.str.replace(f'ЭКСГАУСТЕР {num}. ','')\n"
     ]
    },
    {
     "data": {
      "text/plain": [
       "Сомневаюсь          40\n",
       "ЭлектроДвигатель    20\n",
       "РоторМеханика       12\n",
       "Нормально            8\n",
       "ЭлектроТиристор      3\n",
       "ДвигательТемп        1\n",
       "Name: 0, dtype: int64"
      ]
     },
     "metadata": {},
     "output_type": "display_data"
    },
    {
     "name": "stdout",
     "output_type": "stream",
     "text": [
      "\n",
      "\n",
      "\n",
      "ЭлектроТиристор\n"
     ]
    },
    {
     "name": "stderr",
     "output_type": "stream",
     "text": [
      "C:\\Users\\kompn\\AppData\\Local\\Temp\\ipykernel_4640\\1700302275.py:10: FutureWarning: The default value of regex will change from True to False in a future version.\n",
      "  eks.columns = eks.columns.str.replace(f'ЭКСГАУСТЕР {num}. ','')\n"
     ]
    },
    {
     "data": {
      "text/plain": [
       "ЭлектроДвигатель    53\n",
       "Сомневаюсь          40\n",
       "Нормально            6\n",
       "Name: 0, dtype: int64"
      ]
     },
     "metadata": {},
     "output_type": "display_data"
    },
    {
     "name": "stdout",
     "output_type": "stream",
     "text": [
      "\n",
      "\n",
      "\n",
      "ЭлектроТиристор\n"
     ]
    },
    {
     "name": "stderr",
     "output_type": "stream",
     "text": [
      "C:\\Users\\kompn\\AppData\\Local\\Temp\\ipykernel_4640\\1700302275.py:10: FutureWarning: The default value of regex will change from True to False in a future version.\n",
      "  eks.columns = eks.columns.str.replace(f'ЭКСГАУСТЕР {num}. ','')\n"
     ]
    },
    {
     "data": {
      "text/plain": [
       "ЭлектроДвигатель    54\n",
       "Сомневаюсь          37\n",
       "Нормально            3\n",
       "Name: 0, dtype: int64"
      ]
     },
     "metadata": {},
     "output_type": "display_data"
    },
    {
     "name": "stdout",
     "output_type": "stream",
     "text": [
      "\n",
      "\n",
      "\n",
      "ЭлектроТиристор\n"
     ]
    },
    {
     "name": "stderr",
     "output_type": "stream",
     "text": [
      "C:\\Users\\kompn\\AppData\\Local\\Temp\\ipykernel_4640\\1700302275.py:10: FutureWarning: The default value of regex will change from True to False in a future version.\n",
      "  eks.columns = eks.columns.str.replace(f'ЭКСГАУСТЕР {num}. ','')\n"
     ]
    },
    {
     "data": {
      "text/plain": [
       "ЭлектроДвигатель    40\n",
       "Сомневаюсь          13\n",
       "Нормально            9\n",
       "РоторВибр            3\n",
       "РоторМеханика        1\n",
       "Name: 0, dtype: int64"
      ]
     },
     "metadata": {},
     "output_type": "display_data"
    },
    {
     "name": "stdout",
     "output_type": "stream",
     "text": [
      "\n",
      "\n",
      "\n",
      "ЭлектроТиристор\n"
     ]
    },
    {
     "name": "stderr",
     "output_type": "stream",
     "text": [
      "C:\\Users\\kompn\\AppData\\Local\\Temp\\ipykernel_4640\\1700302275.py:10: FutureWarning: The default value of regex will change from True to False in a future version.\n",
      "  eks.columns = eks.columns.str.replace(f'ЭКСГАУСТЕР {num}. ','')\n"
     ]
    },
    {
     "data": {
      "text/plain": [
       "Нормально     81\n",
       "Сомневаюсь    26\n",
       "Масло         17\n",
       "Name: 0, dtype: int64"
      ]
     },
     "metadata": {},
     "output_type": "display_data"
    },
    {
     "name": "stdout",
     "output_type": "stream",
     "text": [
      "\n",
      "\n",
      "\n",
      "РоторМеханика\n"
     ]
    },
    {
     "name": "stderr",
     "output_type": "stream",
     "text": [
      "C:\\Users\\kompn\\AppData\\Local\\Temp\\ipykernel_4640\\1700302275.py:10: FutureWarning: The default value of regex will change from True to False in a future version.\n",
      "  eks.columns = eks.columns.str.replace(f'ЭКСГАУСТЕР {num}. ','')\n"
     ]
    },
    {
     "data": {
      "text/plain": [
       "Нормально           53\n",
       "Сомневаюсь          30\n",
       "ЭлектроДвигатель    17\n",
       "РоторМеханика        2\n",
       "РоторВибр            1\n",
       "Name: 0, dtype: int64"
      ]
     },
     "metadata": {},
     "output_type": "display_data"
    },
    {
     "name": "stdout",
     "output_type": "stream",
     "text": [
      "\n",
      "\n",
      "\n",
      "РоторМеханика\n"
     ]
    },
    {
     "name": "stderr",
     "output_type": "stream",
     "text": [
      "C:\\Users\\kompn\\AppData\\Local\\Temp\\ipykernel_4640\\1700302275.py:10: FutureWarning: The default value of regex will change from True to False in a future version.\n",
      "  eks.columns = eks.columns.str.replace(f'ЭКСГАУСТЕР {num}. ','')\n"
     ]
    },
    {
     "data": {
      "text/plain": [
       "Нормально           97\n",
       "ЭлектроДвигатель    26\n",
       "Сомневаюсь          10\n",
       "Масло                1\n",
       "Name: 0, dtype: int64"
      ]
     },
     "metadata": {},
     "output_type": "display_data"
    },
    {
     "name": "stdout",
     "output_type": "stream",
     "text": [
      "\n",
      "\n",
      "\n",
      "РоторМеханика\n"
     ]
    },
    {
     "name": "stderr",
     "output_type": "stream",
     "text": [
      "C:\\Users\\kompn\\AppData\\Local\\Temp\\ipykernel_4640\\1700302275.py:10: FutureWarning: The default value of regex will change from True to False in a future version.\n",
      "  eks.columns = eks.columns.str.replace(f'ЭКСГАУСТЕР {num}. ','')\n"
     ]
    },
    {
     "data": {
      "text/plain": [
       "ЭлектроДвигатель    112\n",
       "Сомневаюсь           18\n",
       "Нормально             9\n",
       "Name: 0, dtype: int64"
      ]
     },
     "metadata": {},
     "output_type": "display_data"
    },
    {
     "name": "stdout",
     "output_type": "stream",
     "text": [
      "\n",
      "\n",
      "\n",
      "РоторМеханика\n"
     ]
    },
    {
     "name": "stderr",
     "output_type": "stream",
     "text": [
      "C:\\Users\\kompn\\AppData\\Local\\Temp\\ipykernel_4640\\1700302275.py:10: FutureWarning: The default value of regex will change from True to False in a future version.\n",
      "  eks.columns = eks.columns.str.replace(f'ЭКСГАУСТЕР {num}. ','')\n"
     ]
    },
    {
     "data": {
      "text/plain": [
       "Сомневаюсь          74\n",
       "Нормально           54\n",
       "ЭлектроДвигатель     8\n",
       "Масло                4\n",
       "Name: 0, dtype: int64"
      ]
     },
     "metadata": {},
     "output_type": "display_data"
    },
    {
     "name": "stdout",
     "output_type": "stream",
     "text": [
      "\n",
      "\n",
      "\n",
      "Задвижка\n"
     ]
    },
    {
     "name": "stderr",
     "output_type": "stream",
     "text": [
      "C:\\Users\\kompn\\AppData\\Local\\Temp\\ipykernel_4640\\1700302275.py:10: FutureWarning: The default value of regex will change from True to False in a future version.\n",
      "  eks.columns = eks.columns.str.replace(f'ЭКСГАУСТЕР {num}. ','')\n"
     ]
    },
    {
     "data": {
      "text/plain": [
       "Нормально        92\n",
       "Сомневаюсь       51\n",
       "ДвигательТемп     1\n",
       "Name: 0, dtype: int64"
      ]
     },
     "metadata": {},
     "output_type": "display_data"
    },
    {
     "name": "stdout",
     "output_type": "stream",
     "text": [
      "\n",
      "\n",
      "\n",
      "Задвижка\n"
     ]
    },
    {
     "name": "stderr",
     "output_type": "stream",
     "text": [
      "C:\\Users\\kompn\\AppData\\Local\\Temp\\ipykernel_4640\\1700302275.py:10: FutureWarning: The default value of regex will change from True to False in a future version.\n",
      "  eks.columns = eks.columns.str.replace(f'ЭКСГАУСТЕР {num}. ','')\n"
     ]
    },
    {
     "data": {
      "text/plain": [
       "ЭлектроДвигатель    81\n",
       "Сомневаюсь          36\n",
       "Масло               21\n",
       "Нормально            3\n",
       "Name: 0, dtype: int64"
      ]
     },
     "metadata": {},
     "output_type": "display_data"
    },
    {
     "name": "stdout",
     "output_type": "stream",
     "text": [
      "\n",
      "\n",
      "\n",
      "ЭлектроТиристор\n"
     ]
    },
    {
     "name": "stderr",
     "output_type": "stream",
     "text": [
      "C:\\Users\\kompn\\AppData\\Local\\Temp\\ipykernel_4640\\1700302275.py:10: FutureWarning: The default value of regex will change from True to False in a future version.\n",
      "  eks.columns = eks.columns.str.replace(f'ЭКСГАУСТЕР {num}. ','')\n"
     ]
    },
    {
     "data": {
      "text/plain": [
       "Нормально        101\n",
       "Сомневаюсь        24\n",
       "РоторМеханика     16\n",
       "РоторВибр          1\n",
       "Name: 0, dtype: int64"
      ]
     },
     "metadata": {},
     "output_type": "display_data"
    },
    {
     "name": "stdout",
     "output_type": "stream",
     "text": [
      "\n",
      "\n",
      "\n",
      "РоторВибр\n"
     ]
    },
    {
     "name": "stderr",
     "output_type": "stream",
     "text": [
      "C:\\Users\\kompn\\AppData\\Local\\Temp\\ipykernel_4640\\1700302275.py:10: FutureWarning: The default value of regex will change from True to False in a future version.\n",
      "  eks.columns = eks.columns.str.replace(f'ЭКСГАУСТЕР {num}. ','')\n"
     ]
    },
    {
     "data": {
      "text/plain": [
       "РоторМеханика       82\n",
       "Сомневаюсь          53\n",
       "Нормально            5\n",
       "ЭлектроДвигатель     1\n",
       "Name: 0, dtype: int64"
      ]
     },
     "metadata": {},
     "output_type": "display_data"
    },
    {
     "name": "stdout",
     "output_type": "stream",
     "text": [
      "\n",
      "\n",
      "\n",
      "Масло\n"
     ]
    },
    {
     "name": "stderr",
     "output_type": "stream",
     "text": [
      "C:\\Users\\kompn\\AppData\\Local\\Temp\\ipykernel_4640\\1700302275.py:10: FutureWarning: The default value of regex will change from True to False in a future version.\n",
      "  eks.columns = eks.columns.str.replace(f'ЭКСГАУСТЕР {num}. ','')\n"
     ]
    },
    {
     "data": {
      "text/plain": [
       "Нормально           125\n",
       "Сомневаюсь           14\n",
       "ЭлектроДвигатель      1\n",
       "Name: 0, dtype: int64"
      ]
     },
     "metadata": {},
     "output_type": "display_data"
    },
    {
     "name": "stdout",
     "output_type": "stream",
     "text": [
      "\n",
      "\n",
      "\n",
      "Масло\n"
     ]
    },
    {
     "name": "stderr",
     "output_type": "stream",
     "text": [
      "C:\\Users\\kompn\\AppData\\Local\\Temp\\ipykernel_4640\\1700302275.py:10: FutureWarning: The default value of regex will change from True to False in a future version.\n",
      "  eks.columns = eks.columns.str.replace(f'ЭКСГАУСТЕР {num}. ','')\n"
     ]
    },
    {
     "data": {
      "text/plain": [
       "ЭлектроДвигатель    78\n",
       "Сомневаюсь          42\n",
       "Нормально           12\n",
       "Name: 0, dtype: int64"
      ]
     },
     "metadata": {},
     "output_type": "display_data"
    },
    {
     "name": "stdout",
     "output_type": "stream",
     "text": [
      "\n",
      "\n",
      "\n",
      "Масло\n"
     ]
    },
    {
     "name": "stderr",
     "output_type": "stream",
     "text": [
      "C:\\Users\\kompn\\AppData\\Local\\Temp\\ipykernel_4640\\1700302275.py:10: FutureWarning: The default value of regex will change from True to False in a future version.\n",
      "  eks.columns = eks.columns.str.replace(f'ЭКСГАУСТЕР {num}. ','')\n"
     ]
    },
    {
     "data": {
      "text/plain": [
       "Нормально           123\n",
       "Сомневаюсь           17\n",
       "ЭлектроДвигатель      1\n",
       "Name: 0, dtype: int64"
      ]
     },
     "metadata": {},
     "output_type": "display_data"
    },
    {
     "name": "stdout",
     "output_type": "stream",
     "text": [
      "\n",
      "\n",
      "\n",
      "РоторВибр\n"
     ]
    },
    {
     "name": "stderr",
     "output_type": "stream",
     "text": [
      "C:\\Users\\kompn\\AppData\\Local\\Temp\\ipykernel_4640\\1700302275.py:10: FutureWarning: The default value of regex will change from True to False in a future version.\n",
      "  eks.columns = eks.columns.str.replace(f'ЭКСГАУСТЕР {num}. ','')\n"
     ]
    },
    {
     "data": {
      "text/plain": [
       "ЭлектроДвигатель    61\n",
       "Сомневаюсь          48\n",
       "Нормально           32\n",
       "Масло                2\n",
       "РоторВибр            1\n",
       "Name: 0, dtype: int64"
      ]
     },
     "metadata": {},
     "output_type": "display_data"
    },
    {
     "name": "stdout",
     "output_type": "stream",
     "text": [
      "\n",
      "\n",
      "\n",
      "РоторВибр\n"
     ]
    },
    {
     "name": "stderr",
     "output_type": "stream",
     "text": [
      "C:\\Users\\kompn\\AppData\\Local\\Temp\\ipykernel_4640\\1700302275.py:10: FutureWarning: The default value of regex will change from True to False in a future version.\n",
      "  eks.columns = eks.columns.str.replace(f'ЭКСГАУСТЕР {num}. ','')\n"
     ]
    },
    {
     "data": {
      "text/plain": [
       "Сомневаюсь       107\n",
       "Масло             25\n",
       "ДвигательТемп      6\n",
       "РоторМеханика      5\n",
       "Name: 0, dtype: int64"
      ]
     },
     "metadata": {},
     "output_type": "display_data"
    },
    {
     "name": "stdout",
     "output_type": "stream",
     "text": [
      "\n",
      "\n",
      "\n"
     ]
    },
    {
     "name": "stderr",
     "output_type": "stream",
     "text": [
      "C:\\Users\\kompn\\AppData\\Local\\Temp\\ipykernel_4640\\1700302275.py:10: FutureWarning: The default value of regex will change from True to False in a future version.\n",
      "  eks.columns = eks.columns.str.replace(f'ЭКСГАУСТЕР {num}. ','')\n"
     ]
    },
    {
     "name": "stdout",
     "output_type": "stream",
     "text": [
      "Масло\n"
     ]
    },
    {
     "data": {
      "text/plain": [
       "ДвигательТемп    142\n",
       "Сомневаюсь         2\n",
       "Name: 0, dtype: int64"
      ]
     },
     "metadata": {},
     "output_type": "display_data"
    },
    {
     "name": "stdout",
     "output_type": "stream",
     "text": [
      "\n",
      "\n",
      "\n"
     ]
    }
   ],
   "source": [
    "for nomer_zap in mytoir.index:\n",
    "    if toir['t1'][nomer_zap] < t_test:\n",
    "        continue\n",
    "    else:\n",
    "        num = toir.loc[nomer_zap]['num']\n",
    "        t1 = toir['t1'][nomer_zap] - pd.Timedelta('1D')\n",
    "        t2 = toir['t1'][nomer_zap]\n",
    "        \n",
    "        eks = X_train[[x for x in X_train.columns if f'ЭКСГАУСТЕР {num}. ' in x]][t1:t2]\n",
    "        eks.columns = eks.columns.str.replace(f'ЭКСГАУСТЕР {num}. ','')\n",
    "        eks = eks.fillna(method='pad',limit=60)\n",
    "        eks = eks[ (eks['ТОК РОТОРА 1']>50) |\\\n",
    "                  (eks['ТОК РОТОРА 2']>50) |\\\n",
    "                  (eks['ТОК СТАТОРА']>50)]  \n",
    "        eks = eks.dropna()\n",
    "\n",
    "        print(mytoir.loc[nomer_zap])\n",
    "#         predict = cl.predict(eks[::100])\n",
    "#         display(pd.Series(predict).value_counts())\n",
    "        \n",
    "        predict = cl.kneighbors(eks[::60],return_distance=False)\n",
    "        predict = pd.DataFrame(predict).apply(lambda x: y.values[x])  \n",
    "        preditc_new = predict.iloc[:,0].copy()\n",
    "        predict = pd.concat( [predict.iloc[:,i] == predict.iloc[:,0] for i in range(predict.shape[1])],axis=1).all(axis=1)\n",
    "        preditc_new[~predict] = 'Сомневаюсь'\n",
    "        display(pd.Series(preditc_new).value_counts())\n",
    "        \n",
    "        print()\n",
    "        print()\n",
    "        print()\n",
    "        \n",
    "        "
   ]
  },
  {
   "attachments": {},
   "cell_type": "markdown",
   "id": "4a2fed2d",
   "metadata": {},
   "source": [
    "# Инференс. Подготовка submission_1.xlsx"
   ]
  },
  {
   "cell_type": "code",
   "execution_count": 77,
   "id": "a9dd4885",
   "metadata": {},
   "outputs": [
    {
     "data": {
      "text/html": [
       "<div>\n",
       "<style scoped>\n",
       "    .dataframe tbody tr th:only-of-type {\n",
       "        vertical-align: middle;\n",
       "    }\n",
       "\n",
       "    .dataframe tbody tr th {\n",
       "        vertical-align: top;\n",
       "    }\n",
       "\n",
       "    .dataframe thead th {\n",
       "        text-align: right;\n",
       "    }\n",
       "</style>\n",
       "<table border=\"1\" class=\"dataframe\">\n",
       "  <thead>\n",
       "    <tr style=\"text-align: right;\">\n",
       "      <th></th>\n",
       "      <th>start</th>\n",
       "      <th>finish</th>\n",
       "      <th>machine</th>\n",
       "      <th>tm</th>\n",
       "    </tr>\n",
       "    <tr>\n",
       "      <th>Unnamed: 0</th>\n",
       "      <th></th>\n",
       "      <th></th>\n",
       "      <th></th>\n",
       "      <th></th>\n",
       "    </tr>\n",
       "  </thead>\n",
       "  <tbody>\n",
       "    <tr>\n",
       "      <th>97</th>\n",
       "      <td>2022-01-01 10:54:53</td>\n",
       "      <td>2022-01-01 16:43:39</td>\n",
       "      <td>NaN</td>\n",
       "      <td>NaN</td>\n",
       "    </tr>\n",
       "  </tbody>\n",
       "</table>\n",
       "</div>"
      ],
      "text/plain": [
       "                         start              finish  machine  tm\n",
       "Unnamed: 0                                                     \n",
       "97         2022-01-01 10:54:53 2022-01-01 16:43:39      NaN NaN"
      ]
     },
     "execution_count": 77,
     "metadata": {},
     "output_type": "execute_result"
    }
   ],
   "source": [
    "y_test = pd.read_excel('../data/test_intervals.xlsx').set_index('Unnamed: 0')#.rename(columns={'start':'t1'})\n",
    "y_test.head(1)"
   ]
  },
  {
   "cell_type": "code",
   "execution_count": null,
   "id": "53d91980",
   "metadata": {
    "scrolled": false
   },
   "outputs": [
    {
     "name": "stdout",
     "output_type": "stream",
     "text": [
      "================================================\n",
      "Номер записи 97\n",
      "ЭКС №4\n"
     ]
    },
    {
     "data": {
      "text/plain": [
       "Сомневаюсь       51\n",
       "РоторМеханика     9\n",
       "Нормально         3\n",
       "Name: 0, dtype: int64"
      ]
     },
     "metadata": {},
     "output_type": "display_data"
    },
    {
     "name": "stdout",
     "output_type": "stream",
     "text": [
      "ЭКС №5\n"
     ]
    },
    {
     "data": {
      "text/plain": [
       "Сомневаюсь          51\n",
       "ЭлектроДвигатель    10\n",
       "Масло                4\n",
       "Нормально            1\n",
       "Name: 0, dtype: int64"
      ]
     },
     "metadata": {},
     "output_type": "display_data"
    },
    {
     "name": "stdout",
     "output_type": "stream",
     "text": [
      "ЭКС №6\n"
     ]
    },
    {
     "data": {
      "text/plain": [
       "РоторМеханика    55\n",
       "Сомневаюсь        7\n",
       "Name: 0, dtype: int64"
      ]
     },
     "metadata": {},
     "output_type": "display_data"
    },
    {
     "name": "stdout",
     "output_type": "stream",
     "text": [
      "ЭКС №7\n"
     ]
    },
    {
     "data": {
      "text/plain": [
       "Нормально     64\n",
       "Сомневаюсь     2\n",
       "Name: 0, dtype: int64"
      ]
     },
     "metadata": {},
     "output_type": "display_data"
    },
    {
     "name": "stdout",
     "output_type": "stream",
     "text": [
      "ЭКС №8\n",
      "ЭКС №9\n"
     ]
    },
    {
     "data": {
      "text/plain": [
       "Нормально          27\n",
       "Сомневаюсь         24\n",
       "ЭлектроТиристор    14\n",
       "РоторМеханика       1\n",
       "Name: 0, dtype: int64"
      ]
     },
     "metadata": {},
     "output_type": "display_data"
    },
    {
     "data": {
      "text/html": [
       "<div>\n",
       "<style scoped>\n",
       "    .dataframe tbody tr th:only-of-type {\n",
       "        vertical-align: middle;\n",
       "    }\n",
       "\n",
       "    .dataframe tbody tr th {\n",
       "        vertical-align: top;\n",
       "    }\n",
       "\n",
       "    .dataframe thead th {\n",
       "        text-align: right;\n",
       "    }\n",
       "</style>\n",
       "<table border=\"1\" class=\"dataframe\">\n",
       "  <thead>\n",
       "    <tr style=\"text-align: right;\">\n",
       "      <th></th>\n",
       "      <th>num</th>\n",
       "      <th>percent</th>\n",
       "      <th>fualt</th>\n",
       "    </tr>\n",
       "  </thead>\n",
       "  <tbody>\n",
       "    <tr>\n",
       "      <th>0</th>\n",
       "      <td>4</td>\n",
       "      <td>80.952381</td>\n",
       "      <td>Сомневаюсь</td>\n",
       "    </tr>\n",
       "    <tr>\n",
       "      <th>1</th>\n",
       "      <td>5</td>\n",
       "      <td>77.272727</td>\n",
       "      <td>Сомневаюсь</td>\n",
       "    </tr>\n",
       "    <tr>\n",
       "      <th>2</th>\n",
       "      <td>6</td>\n",
       "      <td>88.709677</td>\n",
       "      <td>РоторМеханика</td>\n",
       "    </tr>\n",
       "    <tr>\n",
       "      <th>3</th>\n",
       "      <td>7</td>\n",
       "      <td>96.969697</td>\n",
       "      <td>Нормально</td>\n",
       "    </tr>\n",
       "    <tr>\n",
       "      <th>4</th>\n",
       "      <td>9</td>\n",
       "      <td>40.909091</td>\n",
       "      <td>Нормально</td>\n",
       "    </tr>\n",
       "  </tbody>\n",
       "</table>\n",
       "</div>"
      ],
      "text/plain": [
       "   num    percent          fualt\n",
       "0    4  80.952381     Сомневаюсь\n",
       "1    5  77.272727     Сомневаюсь\n",
       "2    6  88.709677  РоторМеханика\n",
       "3    7  96.969697      Нормально\n",
       "4    9  40.909091      Нормально"
      ]
     },
     "metadata": {},
     "output_type": "display_data"
    },
    {
     "data": {
      "text/plain": [
       "num                    6\n",
       "percent        88.709677\n",
       "fualt      РоторМеханика\n",
       "Name: 2, dtype: object"
      ]
     },
     "metadata": {},
     "output_type": "display_data"
    },
    {
     "name": "stdout",
     "output_type": "stream",
     "text": [
      "================================================\n",
      "\n",
      "================================================\n",
      "Номер записи 118\n",
      "ЭКС №4\n"
     ]
    },
    {
     "data": {
      "text/plain": [
       "Сомневаюсь       105\n",
       "РоторМеханика      5\n",
       "Нормально          1\n",
       "Name: 0, dtype: int64"
      ]
     },
     "metadata": {},
     "output_type": "display_data"
    },
    {
     "name": "stdout",
     "output_type": "stream",
     "text": [
      "ЭКС №5\n"
     ]
    },
    {
     "data": {
      "text/plain": [
       "Сомневаюсь          56\n",
       "Нормально           30\n",
       "ЭлектроДвигатель    19\n",
       "Масло               10\n",
       "РоторВибр            1\n",
       "Name: 0, dtype: int64"
      ]
     },
     "metadata": {},
     "output_type": "display_data"
    },
    {
     "name": "stdout",
     "output_type": "stream",
     "text": [
      "ЭКС №6\n"
     ]
    },
    {
     "data": {
      "text/plain": [
       "РоторМеханика    86\n",
       "Сомневаюсь       25\n",
       "Name: 0, dtype: int64"
      ]
     },
     "metadata": {},
     "output_type": "display_data"
    },
    {
     "name": "stdout",
     "output_type": "stream",
     "text": [
      "ЭКС №7\n"
     ]
    },
    {
     "data": {
      "text/plain": [
       "Сомневаюсь          59\n",
       "Нормально           34\n",
       "РоторМеханика       11\n",
       "РоторВибр            9\n",
       "ЭлектроДвигатель     6\n",
       "Name: 0, dtype: int64"
      ]
     },
     "metadata": {},
     "output_type": "display_data"
    },
    {
     "name": "stdout",
     "output_type": "stream",
     "text": [
      "ЭКС №8\n",
      "ЭКС №9\n"
     ]
    },
    {
     "data": {
      "text/plain": [
       "Сомневаюсь          66\n",
       "Нормально           46\n",
       "ЭлектроТиристор      3\n",
       "ЭлектроДвигатель     2\n",
       "РоторМеханика        2\n",
       "Name: 0, dtype: int64"
      ]
     },
     "metadata": {},
     "output_type": "display_data"
    },
    {
     "data": {
      "text/html": [
       "<div>\n",
       "<style scoped>\n",
       "    .dataframe tbody tr th:only-of-type {\n",
       "        vertical-align: middle;\n",
       "    }\n",
       "\n",
       "    .dataframe tbody tr th {\n",
       "        vertical-align: top;\n",
       "    }\n",
       "\n",
       "    .dataframe thead th {\n",
       "        text-align: right;\n",
       "    }\n",
       "</style>\n",
       "<table border=\"1\" class=\"dataframe\">\n",
       "  <thead>\n",
       "    <tr style=\"text-align: right;\">\n",
       "      <th></th>\n",
       "      <th>num</th>\n",
       "      <th>percent</th>\n",
       "      <th>fualt</th>\n",
       "    </tr>\n",
       "  </thead>\n",
       "  <tbody>\n",
       "    <tr>\n",
       "      <th>0</th>\n",
       "      <td>4</td>\n",
       "      <td>94.594595</td>\n",
       "      <td>Сомневаюсь</td>\n",
       "    </tr>\n",
       "    <tr>\n",
       "      <th>1</th>\n",
       "      <td>5</td>\n",
       "      <td>48.275862</td>\n",
       "      <td>Сомневаюсь</td>\n",
       "    </tr>\n",
       "    <tr>\n",
       "      <th>2</th>\n",
       "      <td>6</td>\n",
       "      <td>77.477477</td>\n",
       "      <td>РоторМеханика</td>\n",
       "    </tr>\n",
       "    <tr>\n",
       "      <th>3</th>\n",
       "      <td>7</td>\n",
       "      <td>49.579832</td>\n",
       "      <td>Сомневаюсь</td>\n",
       "    </tr>\n",
       "    <tr>\n",
       "      <th>4</th>\n",
       "      <td>9</td>\n",
       "      <td>55.462185</td>\n",
       "      <td>Сомневаюсь</td>\n",
       "    </tr>\n",
       "  </tbody>\n",
       "</table>\n",
       "</div>"
      ],
      "text/plain": [
       "   num    percent          fualt\n",
       "0    4  94.594595     Сомневаюсь\n",
       "1    5  48.275862     Сомневаюсь\n",
       "2    6  77.477477  РоторМеханика\n",
       "3    7  49.579832     Сомневаюсь\n",
       "4    9  55.462185     Сомневаюсь"
      ]
     },
     "metadata": {},
     "output_type": "display_data"
    },
    {
     "data": {
      "text/plain": [
       "num                    6\n",
       "percent        77.477477\n",
       "fualt      РоторМеханика\n",
       "Name: 2, dtype: object"
      ]
     },
     "metadata": {},
     "output_type": "display_data"
    },
    {
     "name": "stdout",
     "output_type": "stream",
     "text": [
      "================================================\n",
      "\n",
      "================================================\n",
      "Номер записи 126\n",
      "ЭКС №4\n"
     ]
    },
    {
     "data": {
      "text/plain": [
       "Сомневаюсь       98\n",
       "Нормально        35\n",
       "РоторМеханика     4\n",
       "Name: 0, dtype: int64"
      ]
     },
     "metadata": {},
     "output_type": "display_data"
    },
    {
     "name": "stdout",
     "output_type": "stream",
     "text": [
      "ЭКС №5\n"
     ]
    },
    {
     "data": {
      "text/plain": [
       "Сомневаюсь          71\n",
       "Нормально           49\n",
       "Масло               23\n",
       "ЭлектроДвигатель     1\n",
       "Name: 0, dtype: int64"
      ]
     },
     "metadata": {},
     "output_type": "display_data"
    },
    {
     "name": "stdout",
     "output_type": "stream",
     "text": [
      "ЭКС №6\n"
     ]
    },
    {
     "data": {
      "text/plain": [
       "Сомневаюсь          70\n",
       "ЭлектроДвигатель    66\n",
       "Нормально            2\n",
       "ЭлектроТиристор      1\n",
       "РоторМеханика        1\n",
       "Name: 0, dtype: int64"
      ]
     },
     "metadata": {},
     "output_type": "display_data"
    },
    {
     "name": "stdout",
     "output_type": "stream",
     "text": [
      "ЭКС №7\n"
     ]
    },
    {
     "data": {
      "text/plain": [
       "Нормально           101\n",
       "Сомневаюсь           27\n",
       "ЭлектроДвигатель     15\n",
       "Name: 0, dtype: int64"
      ]
     },
     "metadata": {},
     "output_type": "display_data"
    },
    {
     "name": "stdout",
     "output_type": "stream",
     "text": [
      "ЭКС №8\n",
      "ЭКС №9\n"
     ]
    },
    {
     "data": {
      "text/plain": [
       "Сомневаюсь          66\n",
       "Нормально           16\n",
       "РоторМеханика       12\n",
       "ЭлектроТиристор      8\n",
       "РоторВибр            5\n",
       "ДвигательТемп        1\n",
       "ЭлектроДвигатель     1\n",
       "Name: 0, dtype: int64"
      ]
     },
     "metadata": {},
     "output_type": "display_data"
    },
    {
     "data": {
      "text/html": [
       "<div>\n",
       "<style scoped>\n",
       "    .dataframe tbody tr th:only-of-type {\n",
       "        vertical-align: middle;\n",
       "    }\n",
       "\n",
       "    .dataframe tbody tr th {\n",
       "        vertical-align: top;\n",
       "    }\n",
       "\n",
       "    .dataframe thead th {\n",
       "        text-align: right;\n",
       "    }\n",
       "</style>\n",
       "<table border=\"1\" class=\"dataframe\">\n",
       "  <thead>\n",
       "    <tr style=\"text-align: right;\">\n",
       "      <th></th>\n",
       "      <th>num</th>\n",
       "      <th>percent</th>\n",
       "      <th>fualt</th>\n",
       "    </tr>\n",
       "  </thead>\n",
       "  <tbody>\n",
       "    <tr>\n",
       "      <th>0</th>\n",
       "      <td>4</td>\n",
       "      <td>71.532847</td>\n",
       "      <td>Сомневаюсь</td>\n",
       "    </tr>\n",
       "    <tr>\n",
       "      <th>1</th>\n",
       "      <td>5</td>\n",
       "      <td>49.305556</td>\n",
       "      <td>Сомневаюсь</td>\n",
       "    </tr>\n",
       "    <tr>\n",
       "      <th>2</th>\n",
       "      <td>6</td>\n",
       "      <td>50.000000</td>\n",
       "      <td>Сомневаюсь</td>\n",
       "    </tr>\n",
       "    <tr>\n",
       "      <th>3</th>\n",
       "      <td>7</td>\n",
       "      <td>70.629371</td>\n",
       "      <td>Нормально</td>\n",
       "    </tr>\n",
       "    <tr>\n",
       "      <th>4</th>\n",
       "      <td>9</td>\n",
       "      <td>60.550459</td>\n",
       "      <td>Сомневаюсь</td>\n",
       "    </tr>\n",
       "  </tbody>\n",
       "</table>\n",
       "</div>"
      ],
      "text/plain": [
       "   num    percent       fualt\n",
       "0    4  71.532847  Сомневаюсь\n",
       "1    5  49.305556  Сомневаюсь\n",
       "2    6  50.000000  Сомневаюсь\n",
       "3    7  70.629371   Нормально\n",
       "4    9  60.550459  Сомневаюсь"
      ]
     },
     "metadata": {},
     "output_type": "display_data"
    },
    {
     "name": "stdout",
     "output_type": "stream",
     "text": [
      "================================================\n",
      "\n",
      "================================================\n",
      "Номер записи 163\n",
      "ЭКС №4\n"
     ]
    },
    {
     "data": {
      "text/plain": [
       "Сомневаюсь       93\n",
       "Нормально        23\n",
       "РоторМеханика     5\n",
       "Name: 0, dtype: int64"
      ]
     },
     "metadata": {},
     "output_type": "display_data"
    },
    {
     "name": "stdout",
     "output_type": "stream",
     "text": [
      "ЭКС №5\n"
     ]
    }
   ],
   "source": [
    "dt1_new = pd.Timedelta('10D')\n",
    "\n",
    "for nomer_zap in y_test.index:\n",
    "    print('================================================')\n",
    "    print('Номер записи',nomer_zap)\n",
    "    t = y_test['start'].loc[nomer_zap]\n",
    "    \n",
    "    t1 = t - dt1_new\n",
    "    t2 = t\n",
    "    \n",
    "    all_eks_result_predict = pd.DataFrame(columns=['num','percent','fualt'])\n",
    "    for num in nums:\n",
    "        print(f'ЭКС №{num}')\n",
    "        if num==8:\n",
    "            continue\n",
    "        \n",
    "        eks = X_test[[x for x in X_test.columns if f'ЭКСГАУСТЕР {num}. ' in x]][t1:t2]\n",
    "        eks.columns = eks.columns.str.replace(f'ЭКСГАУСТЕР {num}. ','', regex=False)\n",
    "        eks = eks.fillna(method='pad',limit=60)\n",
    "        eks = eks[ (eks['ТОК РОТОРА 1']>50) |\\\n",
    "                  (eks['ТОК РОТОРА 2']>50) |\\\n",
    "                  (eks['ТОК СТАТОРА']>50)]  \n",
    "        eks = eks.dropna()\n",
    "        if len(eks)==0:\n",
    "            print('Нет данных ')\n",
    "            continue\n",
    "        \n",
    "        t1 = eks.index[-1] - pd.Timedelta('1D')\n",
    "        eks = eks[t1:t2]\n",
    "        \n",
    "\n",
    "        predict = cl.kneighbors(eks[::60],return_distance=False)\n",
    "        predict = pd.DataFrame(predict).apply(lambda x: y.values[x])  \n",
    "        preditc_new = predict.iloc[:,0].copy()\n",
    "        predict = pd.concat( [predict.iloc[:,i] == predict.iloc[:,0] for i in range(predict.shape[1])],axis=1).all(axis=1)\n",
    "        preditc_new[~predict] = 'Сомневаюсь'\n",
    "        predict = pd.Series(preditc_new).value_counts()\n",
    "        display(predict)\n",
    "        \n",
    "        all_eks_result_predict.loc[len(all_eks_result_predict)] = [num,\n",
    "                                                                   predict.values[0]/predict.sum()*100,\n",
    "                                                                   predict.index[0]]\n",
    "\n",
    "    display(all_eks_result_predict)\n",
    "    all_eks_result_predict = all_eks_result_predict[all_eks_result_predict['fualt']!='Сомневаюсь']\n",
    "    all_eks_result_predict = all_eks_result_predict[all_eks_result_predict['fualt']!='Нормально']\n",
    "    if len(all_eks_result_predict)>0:\n",
    "        res_fot_zap = all_eks_result_predict.sort_values(by='percent',ascending=False).iloc[0]\n",
    "        display(res_fot_zap)\n",
    "        y_test.loc[nomer_zap,'machine'] = 'ЭКСГАУСТЕР А/М №' + str(res_fot_zap['num'])\n",
    "        \n",
    "        minimin_toir = toir.loc[mytoir[mytoir ==  res_fot_zap['fualt']].index]\n",
    "        if len(minimin_toir[minimin_toir['num']==res_fot_zap['num']])==0:\n",
    "            y_test.loc[nomer_zap,'tm'] =  minimin_toir['НАЗВАНИЕ_ТЕХ_МЕСТА'].values[0]\n",
    "        else:\n",
    "            y_test.loc[nomer_zap,'tm'] =  minimin_toir[minimin_toir['num']==res_fot_zap['num']]\\\n",
    "            ['НАЗВАНИЕ_ТЕХ_МЕСТА'].values[0]\n",
    "        y_test.to_excel('submission_1.xlsx')\n",
    "\n",
    "    else:\n",
    "        pass        \n",
    "    print('================================================')\n",
    "    print()"
   ]
  },
  {
   "attachments": {
    "image.png": {
     "image/png": "[encoded data removed]"
    }
   },
   "cell_type": "markdown",
   "id": "c02ed8f6",
   "metadata": {},
   "source": [
    "![image.png](attachment:image.png)"
   ]
  },
  {
   "cell_type": "code",
   "execution_count": null,
   "id": "03fe7156",
   "metadata": {},
   "outputs": [],
   "source": []
  }
 ],
 "metadata": {
  "kernelspec": {
   "display_name": "Python 3 (ipykernel)",
   "language": "python",
   "name": "python3"
  },
  "language_info": {
   "codemirror_mode": {
    "name": "ipython",
    "version": 3
   },
   "file_extension": ".py",
   "mimetype": "text/x-python",
   "name": "python",
   "nbconvert_exporter": "python",
   "pygments_lexer": "ipython3",
   "version": "3.9.7"
  },
  "toc": {
   "base_numbering": 1,
   "nav_menu": {},
   "number_sections": false,
   "sideBar": true,
   "skip_h1_title": false,
   "title_cell": "Table of Contents",
   "title_sidebar": "Contents",
   "toc_cell": false,
   "toc_position": {
    "height": "calc(100% - 180px)",
    "left": "10px",
    "top": "150px",
    "width": "383.969px"
   },
   "toc_section_display": true,
   "toc_window_display": true
  }
 },
 "nbformat": 4,
 "nbformat_minor": 5
}
