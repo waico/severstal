{
 "cells": [
  {
   "cell_type": "code",
   "execution_count": 1,
   "id": "986c0dfa-39d3-4b86-879a-21c24489dcbb",
   "metadata": {},
   "outputs": [],
   "source": [
    "from pycaret.classification import *\n",
    "import pandas as pd\n",
    "from matplotlib import pyplot as plt\n",
    "from sklearn.metrics import f1_score\n",
    "import numpy as np\n",
    "import os"
   ]
  },
  {
   "cell_type": "code",
   "execution_count": null,
   "id": "0459f971-f54b-45fc-9d6d-8c6f06f05fcf",
   "metadata": {},
   "outputs": [],
   "source": [
    "X_test = pd.read_parquet('../data/raw/X_test.parquet')\n",
    "X_test = X_test.rename(columns={'ЭКСГАУСТЕР 4. ТОК РОТОРА2':'ЭКСГАУСТЕР 4. ТОК РОТОРА 2'})\n",
    "\n",
    "X_test.info(max_cols=2)"
   ]
  },
  {
   "cell_type": "code",
   "execution_count": 2,
   "id": "e7e3c81d-fa10-4444-9624-1785f2e2b581",
   "metadata": {},
   "outputs": [],
   "source": [
    "y_test = pd.read_parquet('../data/raw/sample_submission_2.parquet')"
   ]
  },
  {
   "cell_type": "code",
   "execution_count": null,
   "id": "acff108c-7760-464e-97e3-42f8663eaa73",
   "metadata": {},
   "outputs": [],
   "source": [
    "def get_exhauster(target):\n",
    "    name = target.split('_')[1]\n",
    "    number = int(name[-1])\n",
    "    return number\n",
    "\n",
    "def generate_features(X, features, window_diff=24):\n",
    "    #\n",
    "    X = X.copy()\n",
    "    \n",
    "    # Медианная температура и отклонения от нее\n",
    "    temp_cols = [s for s in features if ('ТЕМПЕРАТУРА' in s) and (not s.startswith('Y'))]\n",
    "    X['{0}. ВИБРАЦИЯ МЕДИАНА'.format(temp_cols[0].split('.')[0])] = X[temp_cols].median()\n",
    "    \n",
    "    temp_cols_diff = [f'{s} ОТКЛОНЕНИЕ' for s in features if 'ТЕМПЕРАТУРА' in s]\n",
    "    X[temp_cols_diff] = X[temp_cols] - X[temp_cols].median()\n",
    "    \n",
    "    \n",
    "    # Медианная вибрация и отклонения от нее\n",
    "    vibr_cols = [s for s in features if 'ВИБРАЦИЯ' in s]\n",
    "    X['{0}. ВИБРАЦИЯ МЕДИАНА'.format(vibr_cols[0].split('.')[0])] = X[vibr_cols].median()\n",
    "\n",
    "    vibr_cols_diff = [f'{s} ОТКЛОНЕНИЕ' for s in features if 'ВИБРАЦИЯ' in s]\n",
    "    X[vibr_cols_diff] = X[vibr_cols] - X[vibr_cols].median()\n",
    "    \n",
    "    return X"
   ]
  },
  {
   "cell_type": "code",
   "execution_count": null,
   "id": "8ffebfc9-0463-475c-b9b6-5b767029a631",
   "metadata": {},
   "outputs": [],
   "source": [
    "# Подготовка данных\n",
    "X_test_r = X_test.rolling('60T').mean()\n"
   ]
  },
  {
   "cell_type": "code",
   "execution_count": null,
   "id": "4d6bc79e-7ea4-4529-809a-34b7d296dcfe",
   "metadata": {},
   "outputs": [],
   "source": [
    "X_test[y_test.columns] = 0"
   ]
  },
  {
   "cell_type": "code",
   "execution_count": null,
   "id": "40d05c66-e752-4212-a38b-d400933165ac",
   "metadata": {},
   "outputs": [],
   "source": [
    "for target in sorted(y_test.columns):\n",
    "    tn = target.replace('/', '___')\n",
    "    \n",
    "    if os.path.exists(f'../models/task2/{tn}.pkl'):\n",
    "        print(target)\n",
    "        \n",
    "        exh_n = get_exhauster(target)\n",
    "        features = [s for s in  X_test_r.columns if f'ЭКСГАУСТЕР {exh_n}' in s]\n",
    "        X_test_r_f = generate_features(X_test_r, features)\n",
    "        \n",
    "        model = load_model(f'../models/task2/{tn}', verbose=False)\n",
    "        pr = predict_model(model, X_test_r_f)\n",
    "        X_test[target] = pr['prediction_label']\n",
    "        \n",
    "        plt.figure()\n",
    "        pr['prediction_label'].resample('1D').max().plot()\n",
    "        plt.title(target)\n",
    "        plt.savefig(f'../figs/task2/{tn}.png')\n",
    "        plt.close()\n"
   ]
  },
  {
   "cell_type": "code",
   "execution_count": null,
   "id": "7bc09907-ef21-4a3d-92f8-bb14b602338b",
   "metadata": {},
   "outputs": [],
   "source": [
    "X_test[y_test.columns].drop(columns='DT').reset_index().to_parquet('../data/submissions/submission_2.parquet')"
   ]
  }
 ],
 "metadata": {
  "kernelspec": {
   "display_name": "Python 3 (ipykernel)",
   "language": "python",
   "name": "python3"
  },
  "language_info": {
   "codemirror_mode": {
    "name": "ipython",
    "version": 3
   },
   "file_extension": ".py",
   "mimetype": "text/x-python",
   "name": "python",
   "nbconvert_exporter": "python",
   "pygments_lexer": "ipython3",
   "version": "3.8.16"
  }
 },
 "nbformat": 4,
 "nbformat_minor": 5
}
