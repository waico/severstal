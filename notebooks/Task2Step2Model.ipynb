{
 "cells": [
  {
   "cell_type": "code",
   "execution_count": 1,
   "id": "1dd03556-1877-41ae-ac15-36b6bf670910",
   "metadata": {},
   "outputs": [],
   "source": [
    "from pycaret.classification import *\n",
    "import pandas as pd\n",
    "from matplotlib import pyplot as plt\n",
    "from sklearn.metrics import f1_score\n",
    "import numpy as np\n",
    "import os"
   ]
  },
  {
   "cell_type": "code",
   "execution_count": null,
   "id": "aa8e8355-179a-4961-b6d2-ab2e84b90777",
   "metadata": {},
   "outputs": [],
   "source": []
  },
  {
   "cell_type": "code",
   "execution_count": null,
   "id": "7d8b31da-8e02-458d-85a6-e27ed537661e",
   "metadata": {},
   "outputs": [],
   "source": [
    "X_train = pd.read_parquet('../data/raw/X_train.parquet')\n",
    "X_train.info(max_cols=2)"
   ]
  },
  {
   "cell_type": "code",
   "execution_count": null,
   "id": "8b81b7fb-7f04-4fc1-b1f0-fa8f84f7065e",
   "metadata": {},
   "outputs": [],
   "source": [
    "X_test = pd.read_parquet('../data/raw/X_test.parquet')\n",
    "X_test.info(max_cols=2)"
   ]
  },
  {
   "cell_type": "code",
   "execution_count": 8,
   "id": "18cc735b-37ea-4249-a458-48aa49215df2",
   "metadata": {},
   "outputs": [
    {
     "name": "stdout",
     "output_type": "stream",
     "text": [
      "<class 'pandas.core.frame.DataFrame'>\n",
      "DatetimeIndex: 9335034 entries, 2019-01-16 13:21:00 to 2021-12-31 23:59:50\n",
      "Columns: 175 entries, Y_ЭКСГАУСТЕР А/М №9_ЗАПОРНАЯ АРМАТУРА ЭКСГАУСТЕРА №9 to Y_ЭКСГАУСТЕР А/М №6_ВК 310С ВИБРОПРЕОБРАЗОВАТЕЛЬ ЭКСГ.№6 Т.2\n",
      "dtypes: int8(175)\n",
      "memory usage: 1.6 GB\n"
     ]
    }
   ],
   "source": [
    "y_train = pd.read_parquet('../data/processed/y_train_fixed_M3.parquet')\n",
    "y_train = y_train.astype(np.int8)\n",
    "y_train.info(max_cols=2)"
   ]
  },
  {
   "cell_type": "code",
   "execution_count": null,
   "id": "1c55b93b-be0c-457f-ac38-df7db6b373f2",
   "metadata": {},
   "outputs": [],
   "source": [
    "messages = pd.read_excel('../data/raw/messages.xlsx')\n",
    "messages['target'] = 'Y_' + messages['ИМЯ_МАШИНЫ'] + '_' + messages['НАЗВАНИЕ_ТЕХ_МЕСТА']"
   ]
  },
  {
   "cell_type": "markdown",
   "id": "9a78e25e-be63-4744-8ce0-a2ef3030c79c",
   "metadata": {},
   "source": [
    "# Генерация признаков"
   ]
  },
  {
   "cell_type": "code",
   "execution_count": null,
   "id": "85109874-b08b-41de-857f-81af5cd30872",
   "metadata": {},
   "outputs": [],
   "source": [
    "# Ресэмплирование данных с частотой 1 ч"
   ]
  },
  {
   "cell_type": "code",
   "execution_count": null,
   "id": "2d9e58d3-64b1-474e-87de-3dfaa0b0925a",
   "metadata": {},
   "outputs": [],
   "source": [
    "resample_period = '60T'\n",
    "X_train_r = X_train.resample(resample_period).mean()\n",
    "X_train_r = X_train_r.rename(columns={'ЭКСГАУСТЕР 4. ТОК РОТОРА2':'ЭКСГАУСТЕР 4. ТОК РОТОРА 2'})\n",
    "\n",
    "y_train_r = y_train.resample(resample_period).max()"
   ]
  },
  {
   "cell_type": "code",
   "execution_count": null,
   "id": "b13d5d65-1134-49de-b306-1e3e895de878",
   "metadata": {},
   "outputs": [],
   "source": [
    "def generate_features(X, features, window_diff=24):\n",
    "    #\n",
    "    X = X.copy()\n",
    "    \n",
    "    # Медианная температура и отклонения от нее\n",
    "    temp_cols = [s for s in features if 'ТЕМПЕРАТУРА' in s]\n",
    "    X['{0}. ВИБРАЦИЯ МЕДИАНА'.format(temp_cols[0].split('.')[0])] = X[temp_cols].median()\n",
    "    \n",
    "    temp_cols_diff = [f'{s} ОТКЛОНЕНИЕ' for s in features if 'ТЕМПЕРАТУРА' in s]\n",
    "    X[temp_cols_diff] = X[temp_cols] - X[temp_cols].median()\n",
    "    \n",
    "    \n",
    "    # Медианная вибрация и отклонения от нее\n",
    "    vibr_cols = [s for s in features if 'ВИБРАЦИЯ' in s]\n",
    "    X['{0}. ВИБРАЦИЯ МЕДИАНА'.format(vibr_cols[0].split('.')[0])] = X[vibr_cols].median()\n",
    "\n",
    "    vibr_cols_diff = [f'{s} ОТКЛОНЕНИЕ' for s in features if 'ВИБРАЦИЯ' in s]\n",
    "    X[vibr_cols_diff] = X[vibr_cols] - X[vibr_cols].median()\n",
    "    \n",
    "    return X\n",
    "\n",
    "    # window_diff = 24*14\n",
    "    # diff_columns = [f'{s}_diff_{window_diff}' for s in features]\n",
    "    # X[diff_columns] = X[features].diff(window_diff)"
   ]
  },
  {
   "cell_type": "markdown",
   "id": "967f3689-5ea2-41a6-9089-ad965e1b99bd",
   "metadata": {},
   "source": [
    "# Обучение модели"
   ]
  },
  {
   "cell_type": "code",
   "execution_count": null,
   "id": "9c8da081-f376-4dc9-914b-2a27d704f2dc",
   "metadata": {},
   "outputs": [],
   "source": [
    "from sklearn.metrics import confusion_matrix\n",
    "def j(y_true, y_pred):\n",
    "    tn, fp, fn, tp = confusion_matrix(y_true, y_pred).ravel()\n",
    "    return tp / (tp + fp + fn)"
   ]
  },
  {
   "cell_type": "code",
   "execution_count": null,
   "id": "c024ff99-8d4f-4b4c-b98d-570c75f7e282",
   "metadata": {},
   "outputs": [],
   "source": [
    "for i in range(4,10):\n",
    "    \n",
    "    features = [s for s in  X_train_r.columns if f'ЭКСГАУСТЕР {i}' in s]\n",
    "    X_train_r_f = generate_features(X_train_r, features, window_diff=24)\n",
    "\n",
    "    targets = [s for s in  y_train_r.columns if f'№{i}' in s]\n",
    "    features = [s for s in  X_train_r_f.columns if f'ЭКСГАУСТЕР {i}' in s]\n",
    "    df = X_train_r_f.join(y_train_r)\n",
    "    _df = df[features+targets]\n",
    "    for target in targets:\n",
    "        print(target)\n",
    "        tn = target.replace('/', '___')\n",
    "        if not os.path.exists(f'../models/task2/{tn}.pkl'):\n",
    "\n",
    "            df_train = _df[features+[target]].copy()\n",
    "            df_train = df_train[df_train[target].isin([0,2])]\n",
    "            \n",
    "            # window_diff = 24*14\n",
    "            # diff_columns = [f'{s}_diff_{window_diff}' for s in features]\n",
    "            # df_train[diff_columns] = df_train[features].diff(window_diff)\n",
    "            \n",
    "            N = 0.7\n",
    "            train = df_train[:int(N*len(df_train))]\n",
    "            test = df_train[int(N*len(df_train)):]\n",
    "            if 2 not in train[target].values:\n",
    "                train = pd.concat([train, test])\n",
    "                exp = setup(train, target=target,\n",
    "                            \n",
    "                    # fold_strategy='timeseries', \n",
    "                    train_size=0.7, \n",
    "                    fold=10, \n",
    "                    session_id=42,\n",
    "                    # remove_outliers=True,\n",
    "                    # fix_imbalance = True,\n",
    "                    verbose=-1)\n",
    "                add_metric('J', name='J', score_func=j)\n",
    "                model = compare_models(\n",
    "                                        exclude=['svm', 'knn', 'dt', 'nb', 'dummy'], \n",
    "                                                        # include=['rf', 'lightgbm'],\n",
    "                                                        sort='J', verbose=False\n",
    "                )\n",
    "            else:\n",
    "                exp = setup(train, target=target, test_data=test,\n",
    "                            \n",
    "                    # fold_strategy='timeseries', \n",
    "                    train_size=0.7, \n",
    "                    fold=10, \n",
    "                    session_id=42,\n",
    "                    # remove_outliers=True,\n",
    "                    # fix_imbalance = True,\n",
    "                    verbose=-1)\n",
    "                add_metric('J', name='J', score_func=j)\n",
    "                model = compare_models(\n",
    "                                        exclude=['svm', 'knn', 'dt', 'nb', 'dummy'], \n",
    "                                                        # include=['rf', 'lightgbm'],\n",
    "                                                        sort='J', verbose=False\n",
    "                )\n",
    "            \n",
    "            df_pr = predict_model(model, test)\n",
    "            pr = df_pr['prediction_label'].values\n",
    "            pr[pr==2] = 1\n",
    "            gt = df_pr[target].values \n",
    "            gt[gt==2] = 1\n",
    "            try:\n",
    "                j_test = j(gt, pr)\n",
    "            except:\n",
    "                j_test = 0\n",
    "            \n",
    "            df_pr_train = predict_model(model, train)\n",
    "            pr = df_pr_train['prediction_label'].values\n",
    "            pr[pr==2] = 1\n",
    "            gt = df_pr_train[target].values \n",
    "            gt[gt==2] = 1\n",
    "            try:\n",
    "                j_train = j(gt, pr)\n",
    "            except:\n",
    "                j_train = 0\n",
    "            \n",
    "            \n",
    "            f, ax = plt.subplots()\n",
    "            (df_pr_train['prediction_label']*2).plot(alpha=0.5, ax=ax)\n",
    "            (df_pr[[target]]*2).plot( ax=ax)\n",
    "            (df_pr[['prediction_label' ]]*2).plot(alpha=0.2, ax=ax)\n",
    "            train[target].plot(ax=ax)\n",
    "            \n",
    "\n",
    "            \n",
    "            model_str = model.__str__().split('(')[0]\n",
    "\n",
    "            starts = messages[messages['target']==target]['ДАТА_НАЧАЛА_НЕИСПРАВНОСТИ']\n",
    "            ends = messages[messages['target']==target]['ДАТА_УСТРАНЕНИЯ_НЕИСПРАВНОСТИ']\n",
    "            indx = messages[messages['target']==target].index\n",
    "            for s, e, ind in zip(starts, ends, indx):\n",
    "                if not pd.isnull(e):\n",
    "                    plt.axvspan(s,e, alpha=0.3, \n",
    "                                label=messages.loc[ind]['ОПИСАНИЕ'] + ' (' + messages.loc[ind]['ДАТА_НАЧАЛА_НЕИСПРАВНОСТИ'].__str__() +' '+ messages.loc[ind]['ДАТА_УСТРАНЕНИЯ_НЕИСПРАВНОСТИ'].__str__()+ ')' , \n",
    "                                color=list(np.random.choice(range(256), size=3)/255))\n",
    "\n",
    "            plt.legend(loc='upper center', bbox_to_anchor=(0.5, -0.1),\n",
    "                    fancybox=True, shadow=True, ncol=1)\n",
    "\n",
    "            plt.title(f'{target}\\nJ_train = {j_train:.2f}, J_test = {j_test:.2f}\\n{model_str}')\n",
    "            tn = target.replace('/', '___')\n",
    "            plt.tight_layout()\n",
    "            plt.savefig(f'../figs/model2/{tn}_features.png')\n",
    "\n",
    "            final = finalize_model(model)\n",
    "            save_model(final, f'../models/task2/{tn}')\n"
   ]
  },
  {
   "cell_type": "code",
   "execution_count": null,
   "id": "290acdeb-7916-4943-8a2f-cb1ef89476cb",
   "metadata": {},
   "outputs": [],
   "source": []
  },
  {
   "cell_type": "code",
   "execution_count": null,
   "id": "b5aa388c-2c06-4d26-aeb8-571cf833a873",
   "metadata": {},
   "outputs": [],
   "source": []
  },
  {
   "cell_type": "code",
   "execution_count": null,
   "id": "bc9c689e-bc8a-45c4-83ef-48bf26752396",
   "metadata": {},
   "outputs": [],
   "source": []
  },
  {
   "cell_type": "code",
   "execution_count": null,
   "id": "39fd3f15-d522-4b0f-80b2-4793b79de861",
   "metadata": {},
   "outputs": [],
   "source": []
  }
 ],
 "metadata": {
  "kernelspec": {
   "display_name": "Python 3 (ipykernel)",
   "language": "python",
   "name": "python3"
  },
  "language_info": {
   "codemirror_mode": {
    "name": "ipython",
    "version": 3
   },
   "file_extension": ".py",
   "mimetype": "text/x-python",
   "name": "python",
   "nbconvert_exporter": "python",
   "pygments_lexer": "ipython3",
   "version": "3.8.16"
  }
 },
 "nbformat": 4,
 "nbformat_minor": 5
}
